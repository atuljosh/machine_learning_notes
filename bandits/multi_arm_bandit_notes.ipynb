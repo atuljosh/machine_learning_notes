{
 "cells": [
  {
   "cell_type": "markdown",
   "metadata": {},
   "source": [
    "# Multi-Arm Bandit notes:\n",
    "\n",
    "### Bandit Algorithms For Website Optimization - By John Myles White"
   ]
  },
  {
   "cell_type": "markdown",
   "metadata": {},
   "source": [
    "### Traditional A/B testing: "
   ]
  },
  {
   "cell_type": "markdown",
   "metadata": {},
   "source": [
    "For example if we have two website designs, A and B, A/B testing refers to a paradigm of running \n",
    "    randomized controlled experiment where we would assign randomly traffic to design A and design B (may be a 50-50 split or \n",
    "    variations of A-A-B-B with some split of traffic mostly driven by resources in hand). Presumably, we would do some sample size studies to determine how many clicks / impressions we want before we make a final decision about the design. Generally we would do a hypothesis test by computing test statistic of some sort (some form of signal-to-noise ratio) with some distributional assumptions about the test statistic (e.g. normal approaximation of binomial etc.)\n"
   ]
  },
  {
   "cell_type": "markdown",
   "metadata": {},
   "source": [
    "### Problems of traditional A/B testing:"
   ]
  },
  {
   "cell_type": "markdown",
   "metadata": {},
   "source": [
    "1) We need to make sure that the traffic split is truely random to ensure that any other factors than the control and treatment get nullified by randomness. Sometimes it is impossible to ensure this.\n",
    "\n",
    "2) Assumption of discrete decision boundary. So there is either exploration or exploitation. You either waste resources on bad design or not explore choices making premature decison about the best design.\n",
    "\n",
    "3) You have to wait until the experiment is finished. Generally sample size calculations are dependent on non-intuitive concepts such as error 1 (reject null hypothesis when actually it is true) or error 2 (accept null hypothesis when actually false). Generally for low errors, if expectated conversion rates are too low (which in practice are) power calculations result n very large sample sizes making it impractical to wait that long and waste those many resources."
   ]
  },
  {
   "cell_type": "markdown",
   "metadata": {},
   "source": [
    "## Multi-arm bandit algorithms:"
   ]
  },
  {
   "cell_type": "markdown",
   "metadata": {},
   "source": [
    "1) Generally multi-arm bandit algorithms are introduced to solve the so called explore-exploit dilemma\n",
    "\n",
    "2) Generally they smoothly transition from pure exploration to exploitation based on observed data and quantified uncertainty around the observed data"
   ]
  },
  {
   "cell_type": "markdown",
   "metadata": {},
   "source": [
    "#### Algorithm 1 - Epsilon-greedy algorithm"
   ]
  },
  {
   "cell_type": "markdown",
   "metadata": {},
   "source": [
    "In simple terms:\n",
    "- With probability (1-$\\epsilon$) __exploit__ best known option\n",
    "- With probability ($\\epsilon$ / 2) __explore__ best known option\n",
    "- With probability ($\\epsilon$ / 2) __explore__ worst known option"
   ]
  },
  {
   "cell_type": "markdown",
   "metadata": {},
   "source": [
    "- Each option is a arm of multi-arm bandit\n",
    "- Reward is a quantitative measure of success\n",
    "- Bandit is slot machine with many arms or options. Each arm has an associated reward with it\n",
    "- Everytime we pull an arm, 2 things happen:\n",
    "    - we miss out on any information about other arms we did not pull\n",
    "    - And potentially (worst case) we lose any higher reward from arms which we did not pull\n",
    "    - However, we do get feedback about the arm we pulled\n",
    "    \n"
   ]
  },
  {
   "cell_type": "code",
   "execution_count": 1,
   "metadata": {
    "collapsed": false
   },
   "outputs": [],
   "source": [
    "import random\n",
    "import numpy as np\n",
    "import pandas as pd\n",
    "import matplotlib.pyplot as plt\n",
    "\n",
    "def ind_max(x):\n",
    "    return x.index(max(x))\n",
    "\n",
    "\n",
    "class EpsilonGreedy():\n",
    "    def __init__(self, epsilon, counts, values):\n",
    "        self.epsilon = epsilon\n",
    "        self.counts = counts\n",
    "        self.values = values\n",
    "        return\n",
    "\n",
    "    def initialize(self, n_arms):\n",
    "        self.counts = [0 for _ in xrange(n_arms)]\n",
    "        self.values = [0.0 for _ in xrange(n_arms)]\n",
    "        return\n",
    "\n",
    "    def select_arm(self):\n",
    "        if random.random() > self.epsilon:\n",
    "            return ind_max(self.values)\n",
    "        else:\n",
    "            return random.randrange( len( self.values))\n",
    "\n",
    "    def update(self, chosen_arm, reward):\n",
    "        self.counts[chosen_arm] = self.counts[chosen_arm] + 1\n",
    "        n = self.counts[chosen_arm]\n",
    "        value = self.values[chosen_arm]\n",
    "        # Online running weighted average\n",
    "        new_value = (((n - 1) / float(n)) * value) + ((1 / float(n)) * reward)\n",
    "        self.values[chosen_arm] = new_value\n",
    "        return\n",
    "\n",
    "\n",
    "class BernoulliArm():\n",
    "    def __init__(self, p):\n",
    "        self.p = p\n",
    "\n",
    "    def draw(self):\n",
    "        if random.random() > self.p:\n",
    "            return 0.0\n",
    "        else:\n",
    "            return 1.0\n"
   ]
  },
  {
   "cell_type": "code",
   "execution_count": 2,
   "metadata": {
    "collapsed": false
   },
   "outputs": [],
   "source": [
    "def test_algorithm(algorithm, arms, num_sims, horizon):\n",
    "    chosen_arms = [0.0 for _ in xrange(num_sims * horizon)]\n",
    "    rewards = [0.0 for _ in xrange(num_sims * horizon)]\n",
    "    cumulative_rewards = [0.0 for _ in xrange(num_sims * horizon)]\n",
    "    sim_nums = [0.0 for _ in xrange(num_sims * horizon)]\n",
    "    times = [0.0 for _ in xrange(num_sims * horizon)]\n",
    "    for sim in xrange(num_sims):\n",
    "        sim += 1\n",
    "        algorithm.initialize(len(arms))\n",
    "        for t in range(horizon):\n",
    "            t += 1\n",
    "            index = (sim - 1) * horizon + t - 1\n",
    "            sim_nums[index] = sim\n",
    "            times[index] = t\n",
    "            chosen_arm = algorithm.select_arm()\n",
    "            chosen_arms[index] = chosen_arm\n",
    "            reward = arms[chosen_arms[index]].draw()\n",
    "            rewards[index] = reward\n",
    "            if t == 1:\n",
    "                cumulative_rewards[index] = reward\n",
    "            else:\n",
    "                cumulative_rewards[index] = cumulative_rewards[index - 1] + reward\n",
    "\n",
    "            algorithm.update(chosen_arm, reward)\n",
    "\n",
    "    return [sim_nums, times, chosen_arms, rewards, cumulative_rewards]"
   ]
  },
  {
   "cell_type": "code",
   "execution_count": 3,
   "metadata": {
    "collapsed": false
   },
   "outputs": [],
   "source": [
    "random.seed(1)\n",
    "means = [0.1, 0.1, 0.1, 0.1, 0.1, 0.9]\n",
    "n_arms = len(means)\n",
    "random.shuffle(means)\n",
    "arms = map(lambda (mu): BernoulliArm(mu), means)\n",
    "final = []\n",
    "all_eps = [0.1, 0.2, 0.3, 0.4, 0.5]\n",
    "sim_nums = 3000\n",
    "times = 250\n",
    "\n",
    "for epsilon in all_eps:\n",
    "    algorithm = EpsilonGreedy(epsilon, [], [])\n",
    "    algorithm.initialize(n_arms)\n",
    "    results = test_algorithm(algorithm, arms, sim_nums, times)\n",
    "    eps = [epsilon] * len(results[0])\n",
    "    results.insert(0, eps)\n",
    "    results = zip(*results)\n",
    "    final.extend(results)\n"
   ]
  },
  {
   "cell_type": "code",
   "execution_count": 4,
   "metadata": {
    "collapsed": false
   },
   "outputs": [],
   "source": [
    "\n",
    "df = pd.DataFrame(final, columns=['epsilon', 'sim_nums', 'times', 'chosen_arms', 'rewards', 'cumulative_rewards'])\n",
    "grouped_df = df.groupby(['epsilon', 'times']).sum()\n",
    "grouped_df['prob_of_best_arm'] = grouped_df['rewards'] / sim_nums\n"
   ]
  },
  {
   "cell_type": "code",
   "execution_count": 5,
   "metadata": {
    "collapsed": false
   },
   "outputs": [
    {
     "data": {
      "text/plain": [
       "<matplotlib.legend.Legend at 0x103a91d90>"
      ]
     },
     "execution_count": 5,
     "metadata": {},
     "output_type": "execute_result"
    },
    {
     "data": {
      "image/png": "[encoded data removed]",
      "text/plain": [
       "<matplotlib.figure.Figure at 0x1067b5950>"
      ]
     },
     "metadata": {},
     "output_type": "display_data"
    }
   ],
   "source": [
    "import matplotlib.pyplot as plt\n",
    "%matplotlib inline\n",
    "\n",
    "plt.figure()\n",
    "\n",
    "for eps in all_eps:\n",
    "    plt.plot(list(grouped_df.loc[eps,]['prob_of_best_arm'].index.values), list(grouped_df.loc[eps,]['prob_of_best_arm'].values), label='eplsilon - {0}'.format(eps))\n",
    "\n",
    "plt.xlabel('times')\n",
    "plt.ylabel('probability')\n",
    "plt.title('Probability of best arm')    \n",
    "plt.legend(loc='lower right')"
   ]
  },
  {
   "cell_type": "code",
   "execution_count": null,
   "metadata": {
    "collapsed": true
   },
   "outputs": [],
   "source": []
  },
  {
   "cell_type": "code",
   "execution_count": null,
   "metadata": {
    "collapsed": true
   },
   "outputs": [],
   "source": []
  }
 ],
 "metadata": {
  "kernelspec": {
   "display_name": "Python 2",
   "language": "python",
   "name": "python2"
  },
  "language_info": {
   "codemirror_mode": {
    "name": "ipython",
    "version": 2
   },
   "file_extension": ".py",
   "mimetype": "text/x-python",
   "name": "python",
   "nbconvert_exporter": "python",
   "pygments_lexer": "ipython2",
   "version": "2.7.10"
  }
 },
 "nbformat": 4,
 "nbformat_minor": 0
}
